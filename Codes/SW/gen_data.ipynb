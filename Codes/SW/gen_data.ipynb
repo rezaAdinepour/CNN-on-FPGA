{
 "cells": [
  {
   "cell_type": "markdown",
   "metadata": {},
   "source": [
    "### 0. Definitions\n",
    "\n",
    "This notebook generates ```in.dat``` and ```out.dat``` for HLS implementation ```cnn_tb.c``` starting from the ```MNIST``` dataset.\n",
    "\n",
    "$\\texttt{out.dat}$:\n",
    "\n",
    "* $\\texttt{label\\_y\\_0}$\n",
    "\n",
    "* $\\texttt{label\\_y\\_1}$\n",
    "\n",
    "    ...\n",
    "\n",
    "* $\\texttt{label\\_y\\_N}$\n",
    "\n",
    "\n",
    "---\n",
    "\n",
    "$\\texttt{in.dat}$:\n",
    "\n",
    "* $\\texttt{image\\_0}$:\n",
    "\n",
    "* blank line\n",
    "\n",
    "* $\\texttt{image\\_1}$:\n",
    "\n",
    "* blank line\n",
    "\n",
    "  $....$\n",
    "\n",
    "* $\\texttt{image\\_N}$:"
   ]
  },
  {
   "cell_type": "markdown",
   "metadata": {},
   "source": [
    "### 1. Import Libraries"
   ]
  },
  {
   "cell_type": "code",
   "execution_count": 5,
   "metadata": {},
   "outputs": [],
   "source": [
    "from tensorflow.keras.datasets import mnist\n",
    "import numpy as np\n",
    "from tqdm import tqdm"
   ]
  },
  {
   "cell_type": "markdown",
   "metadata": {},
   "source": [
    "### 2. Load Dataset"
   ]
  },
  {
   "cell_type": "code",
   "execution_count": 6,
   "metadata": {},
   "outputs": [
    {
     "name": "stdout",
     "output_type": "stream",
     "text": [
      "X_test:  (10000, 28, 28)\n",
      "Y_test:  (10000,)\n"
     ]
    }
   ],
   "source": [
    "(_, _), (test_X, test_y) = mnist.load_data()\n",
    "print('X_test:  '  + str(test_X.shape))\n",
    "print('Y_test:  '  + str(test_y.shape))\n",
    "\n",
    "\n",
    "# Number of samples into test set.\n",
    "N = test_X.shape[0]\n",
    "\n",
    "# Take all images and labels.\n",
    "images = test_X[:N]\n",
    "labels = test_y[:N]"
   ]
  },
  {
   "cell_type": "markdown",
   "metadata": {},
   "source": [
    "### 3. Process Data"
   ]
  },
  {
   "cell_type": "code",
   "execution_count": 7,
   "metadata": {},
   "outputs": [
    {
     "name": "stderr",
     "output_type": "stream",
     "text": [
      "Processing Images: 100%|██████████| 10000/10000 [38:01<00:00,  4.38it/s]\n"
     ]
    }
   ],
   "source": [
    "in_dat=\"\"\n",
    "out_dat=\"\"\n",
    "for i in tqdm(range(N), desc=\"Processing Images\"):\n",
    "    label = labels[i]\n",
    "    pixels = images[i]\n",
    "    pixels = np.array(pixels.reshape((28, 28)))\n",
    "    for x in range(pixels.shape[0]):\n",
    "        in_dat += ' '.join(\n",
    "            [str(pixels[x][y]) for y in range(pixels.shape[1])])\n",
    "        in_dat += '\\n'\n",
    "    in_dat += '\\n'\n",
    "    out_dat += str(label) + '\\n'"
   ]
  },
  {
   "cell_type": "markdown",
   "metadata": {},
   "source": [
    "### 4. Save Data"
   ]
  },
  {
   "cell_type": "code",
   "execution_count": 8,
   "metadata": {},
   "outputs": [
    {
     "name": "stdout",
     "output_type": "stream",
     "text": [
      "Written 10000 images in Data/in.dat\n",
      "Written 10000 labels in Data/out.dat\n"
     ]
    }
   ],
   "source": [
    "with open('Data/in.dat', 'w') as f:\n",
    "    print(in_dat, file=f, end='')\n",
    "    print('Written ' + str(N) + ' images in Data/in.dat')\n",
    "\n",
    "with open('Data/out.dat', 'w') as f:\n",
    "    print(out_dat, file=f, end='')\n",
    "    print('Written ' + str(N) + ' labels in Data/out.dat')"
   ]
  }
 ],
 "metadata": {
  "kernelspec": {
   "display_name": "Python 3",
   "language": "python",
   "name": "python3"
  },
  "language_info": {
   "codemirror_mode": {
    "name": "ipython",
    "version": 3
   },
   "file_extension": ".py",
   "mimetype": "text/x-python",
   "name": "python",
   "nbconvert_exporter": "python",
   "pygments_lexer": "ipython3",
   "version": "3.12.3"
  }
 },
 "nbformat": 4,
 "nbformat_minor": 2
}
